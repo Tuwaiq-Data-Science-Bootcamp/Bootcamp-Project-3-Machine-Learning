{
 "cells": [
  {
   "cell_type": "code",
   "execution_count": 1,
   "id": "3a690bdb",
   "metadata": {},
   "outputs": [],
   "source": [
    "import pandas as pd\n",
    "import matplotlib.pyplot as plt\n",
    "import seaborn as sns"
   ]
  },
  {
   "cell_type": "code",
   "execution_count": 2,
   "id": "64a5eb8c",
   "metadata": {},
   "outputs": [],
   "source": [
    "df = pd.read_csv('stress_detection.csv')"
   ]
  },
  {
   "cell_type": "code",
   "execution_count": 3,
   "id": "e8ffb4d4",
   "metadata": {},
   "outputs": [
    {
     "data": {
      "text/html": [
       "<div>\n",
       "<style scoped>\n",
       "    .dataframe tbody tr th:only-of-type {\n",
       "        vertical-align: middle;\n",
       "    }\n",
       "\n",
       "    .dataframe tbody tr th {\n",
       "        vertical-align: top;\n",
       "    }\n",
       "\n",
       "    .dataframe thead th {\n",
       "        text-align: right;\n",
       "    }\n",
       "</style>\n",
       "<table border=\"1\" class=\"dataframe\">\n",
       "  <thead>\n",
       "    <tr style=\"text-align: right;\">\n",
       "      <th></th>\n",
       "      <th>snoring_rate</th>\n",
       "      <th>respiration_rate</th>\n",
       "      <th>body_temperature</th>\n",
       "      <th>limb_movement</th>\n",
       "      <th>blood_oxygen</th>\n",
       "      <th>eye_movement</th>\n",
       "      <th>sleeping_hours</th>\n",
       "      <th>heart_rate</th>\n",
       "      <th>stress_level</th>\n",
       "    </tr>\n",
       "  </thead>\n",
       "  <tbody>\n",
       "    <tr>\n",
       "      <th>0</th>\n",
       "      <td>93.80</td>\n",
       "      <td>25.68</td>\n",
       "      <td>91.84</td>\n",
       "      <td>16.60</td>\n",
       "      <td>89.84</td>\n",
       "      <td>99.60</td>\n",
       "      <td>1.84</td>\n",
       "      <td>74.20</td>\n",
       "      <td>3</td>\n",
       "    </tr>\n",
       "    <tr>\n",
       "      <th>1</th>\n",
       "      <td>91.64</td>\n",
       "      <td>25.10</td>\n",
       "      <td>91.55</td>\n",
       "      <td>15.88</td>\n",
       "      <td>89.55</td>\n",
       "      <td>98.88</td>\n",
       "      <td>1.55</td>\n",
       "      <td>72.76</td>\n",
       "      <td>3</td>\n",
       "    </tr>\n",
       "    <tr>\n",
       "      <th>2</th>\n",
       "      <td>60.00</td>\n",
       "      <td>20.00</td>\n",
       "      <td>96.00</td>\n",
       "      <td>10.00</td>\n",
       "      <td>95.00</td>\n",
       "      <td>85.00</td>\n",
       "      <td>7.00</td>\n",
       "      <td>60.00</td>\n",
       "      <td>1</td>\n",
       "    </tr>\n",
       "    <tr>\n",
       "      <th>3</th>\n",
       "      <td>85.76</td>\n",
       "      <td>23.54</td>\n",
       "      <td>90.77</td>\n",
       "      <td>13.92</td>\n",
       "      <td>88.77</td>\n",
       "      <td>96.92</td>\n",
       "      <td>0.77</td>\n",
       "      <td>68.84</td>\n",
       "      <td>3</td>\n",
       "    </tr>\n",
       "    <tr>\n",
       "      <th>4</th>\n",
       "      <td>48.12</td>\n",
       "      <td>17.25</td>\n",
       "      <td>97.87</td>\n",
       "      <td>6.50</td>\n",
       "      <td>96.25</td>\n",
       "      <td>72.48</td>\n",
       "      <td>8.25</td>\n",
       "      <td>53.12</td>\n",
       "      <td>0</td>\n",
       "    </tr>\n",
       "  </tbody>\n",
       "</table>\n",
       "</div>"
      ],
      "text/plain": [
       "   snoring_rate  respiration_rate  body_temperature  limb_movement  \\\n",
       "0         93.80             25.68             91.84          16.60   \n",
       "1         91.64             25.10             91.55          15.88   \n",
       "2         60.00             20.00             96.00          10.00   \n",
       "3         85.76             23.54             90.77          13.92   \n",
       "4         48.12             17.25             97.87           6.50   \n",
       "\n",
       "   blood_oxygen  eye_movement  sleeping_hours  heart_rate  stress_level  \n",
       "0         89.84         99.60            1.84       74.20             3  \n",
       "1         89.55         98.88            1.55       72.76             3  \n",
       "2         95.00         85.00            7.00       60.00             1  \n",
       "3         88.77         96.92            0.77       68.84             3  \n",
       "4         96.25         72.48            8.25       53.12             0  "
      ]
     },
     "execution_count": 3,
     "metadata": {},
     "output_type": "execute_result"
    }
   ],
   "source": [
    "df.head()"
   ]
  },
  {
   "cell_type": "code",
   "execution_count": 4,
   "id": "afa09747",
   "metadata": {},
   "outputs": [],
   "source": [
    "df.rename(columns = {'sr':'snoring_rate', 'rr':'respiration_rate','t':'body_temperature','lm':'limb_movement',\n",
    "                     'bo':'blood_oxygen','rem':'eye_movement','sr.1':'sleeping_hours','hr':'heart_rate',\n",
    "                     'sl':'stress_level'}, inplace = True)"
   ]
  },
  {
   "cell_type": "code",
   "execution_count": 5,
   "id": "4bb5b28b",
   "metadata": {},
   "outputs": [
    {
     "data": {
      "text/html": [
       "<div>\n",
       "<style scoped>\n",
       "    .dataframe tbody tr th:only-of-type {\n",
       "        vertical-align: middle;\n",
       "    }\n",
       "\n",
       "    .dataframe tbody tr th {\n",
       "        vertical-align: top;\n",
       "    }\n",
       "\n",
       "    .dataframe thead th {\n",
       "        text-align: right;\n",
       "    }\n",
       "</style>\n",
       "<table border=\"1\" class=\"dataframe\">\n",
       "  <thead>\n",
       "    <tr style=\"text-align: right;\">\n",
       "      <th></th>\n",
       "      <th>snoring_rate</th>\n",
       "      <th>respiration_rate</th>\n",
       "      <th>body_temperature</th>\n",
       "      <th>limb_movement</th>\n",
       "      <th>blood_oxygen</th>\n",
       "      <th>eye_movement</th>\n",
       "      <th>sleeping_hours</th>\n",
       "      <th>heart_rate</th>\n",
       "      <th>stress_level</th>\n",
       "    </tr>\n",
       "  </thead>\n",
       "  <tbody>\n",
       "    <tr>\n",
       "      <th>0</th>\n",
       "      <td>93.80</td>\n",
       "      <td>25.68</td>\n",
       "      <td>91.84</td>\n",
       "      <td>16.60</td>\n",
       "      <td>89.84</td>\n",
       "      <td>99.60</td>\n",
       "      <td>1.84</td>\n",
       "      <td>74.20</td>\n",
       "      <td>3</td>\n",
       "    </tr>\n",
       "    <tr>\n",
       "      <th>1</th>\n",
       "      <td>91.64</td>\n",
       "      <td>25.10</td>\n",
       "      <td>91.55</td>\n",
       "      <td>15.88</td>\n",
       "      <td>89.55</td>\n",
       "      <td>98.88</td>\n",
       "      <td>1.55</td>\n",
       "      <td>72.76</td>\n",
       "      <td>3</td>\n",
       "    </tr>\n",
       "    <tr>\n",
       "      <th>2</th>\n",
       "      <td>60.00</td>\n",
       "      <td>20.00</td>\n",
       "      <td>96.00</td>\n",
       "      <td>10.00</td>\n",
       "      <td>95.00</td>\n",
       "      <td>85.00</td>\n",
       "      <td>7.00</td>\n",
       "      <td>60.00</td>\n",
       "      <td>1</td>\n",
       "    </tr>\n",
       "    <tr>\n",
       "      <th>3</th>\n",
       "      <td>85.76</td>\n",
       "      <td>23.54</td>\n",
       "      <td>90.77</td>\n",
       "      <td>13.92</td>\n",
       "      <td>88.77</td>\n",
       "      <td>96.92</td>\n",
       "      <td>0.77</td>\n",
       "      <td>68.84</td>\n",
       "      <td>3</td>\n",
       "    </tr>\n",
       "    <tr>\n",
       "      <th>4</th>\n",
       "      <td>48.12</td>\n",
       "      <td>17.25</td>\n",
       "      <td>97.87</td>\n",
       "      <td>6.50</td>\n",
       "      <td>96.25</td>\n",
       "      <td>72.48</td>\n",
       "      <td>8.25</td>\n",
       "      <td>53.12</td>\n",
       "      <td>0</td>\n",
       "    </tr>\n",
       "  </tbody>\n",
       "</table>\n",
       "</div>"
      ],
      "text/plain": [
       "   snoring_rate  respiration_rate  body_temperature  limb_movement  \\\n",
       "0         93.80             25.68             91.84          16.60   \n",
       "1         91.64             25.10             91.55          15.88   \n",
       "2         60.00             20.00             96.00          10.00   \n",
       "3         85.76             23.54             90.77          13.92   \n",
       "4         48.12             17.25             97.87           6.50   \n",
       "\n",
       "   blood_oxygen  eye_movement  sleeping_hours  heart_rate  stress_level  \n",
       "0         89.84         99.60            1.84       74.20             3  \n",
       "1         89.55         98.88            1.55       72.76             3  \n",
       "2         95.00         85.00            7.00       60.00             1  \n",
       "3         88.77         96.92            0.77       68.84             3  \n",
       "4         96.25         72.48            8.25       53.12             0  "
      ]
     },
     "execution_count": 5,
     "metadata": {},
     "output_type": "execute_result"
    }
   ],
   "source": [
    "df.head()"
   ]
  },
  {
   "cell_type": "code",
   "execution_count": 6,
   "id": "a536b138",
   "metadata": {},
   "outputs": [
    {
     "data": {
      "text/plain": [
       "(630, 9)"
      ]
     },
     "execution_count": 6,
     "metadata": {},
     "output_type": "execute_result"
    }
   ],
   "source": [
    "df.shape"
   ]
  },
  {
   "cell_type": "code",
   "execution_count": 7,
   "id": "7e424fcd",
   "metadata": {},
   "outputs": [
    {
     "data": {
      "text/plain": [
       "0"
      ]
     },
     "execution_count": 7,
     "metadata": {},
     "output_type": "execute_result"
    }
   ],
   "source": [
    "df.duplicated().sum()"
   ]
  },
  {
   "cell_type": "code",
   "execution_count": 8,
   "id": "72157d57",
   "metadata": {},
   "outputs": [
    {
     "data": {
      "text/plain": [
       "0"
      ]
     },
     "execution_count": 8,
     "metadata": {},
     "output_type": "execute_result"
    }
   ],
   "source": [
    "df.isnull().sum().sum()"
   ]
  },
  {
   "cell_type": "code",
   "execution_count": 9,
   "id": "3e7fea87",
   "metadata": {},
   "outputs": [],
   "source": [
    "df= df.round(decimals=2)"
   ]
  },
  {
   "cell_type": "code",
   "execution_count": 10,
   "id": "3705da04",
   "metadata": {},
   "outputs": [],
   "source": [
    "class_counts = df['stress_level'].value_counts()"
   ]
  },
  {
   "cell_type": "code",
   "execution_count": 11,
   "id": "faeb876e",
   "metadata": {},
   "outputs": [
    {
     "data": {
      "image/png": "[encoded data removed]",
      "text/plain": [
       "<Figure size 432x288 with 1 Axes>"
      ]
     },
     "metadata": {},
     "output_type": "display_data"
    }
   ],
   "source": [
    "mylabels = [\"Level 0\", \"Level 1\", \"Level 2\", \"Level 3\",\"Level 4\"]\n",
    "mycolors = ['#6E2C00', '#BA4A00', '#DC7633', '#EDBB99', '#FBEEE6']\n",
    "fracs = [126, 126, 126, 126, 126]\n",
    "total = sum(fracs)\n",
    "plt.pie(class_counts, labels = mylabels, startangle = 90, colors = mycolors,\n",
    "       autopct=lambda p: '{:.0f}'.format(p * total / 100))\n",
    "plt.show() "
   ]
  },
  {
   "cell_type": "code",
   "execution_count": 12,
   "id": "5169b58a",
   "metadata": {},
   "outputs": [
    {
     "data": {
      "text/html": [
       "<div>\n",
       "<style scoped>\n",
       "    .dataframe tbody tr th:only-of-type {\n",
       "        vertical-align: middle;\n",
       "    }\n",
       "\n",
       "    .dataframe tbody tr th {\n",
       "        vertical-align: top;\n",
       "    }\n",
       "\n",
       "    .dataframe thead th {\n",
       "        text-align: right;\n",
       "    }\n",
       "</style>\n",
       "<table border=\"1\" class=\"dataframe\">\n",
       "  <thead>\n",
       "    <tr style=\"text-align: right;\">\n",
       "      <th></th>\n",
       "      <th>snoring_rate</th>\n",
       "      <th>respiration_rate</th>\n",
       "      <th>body_temperature</th>\n",
       "      <th>limb_movement</th>\n",
       "      <th>blood_oxygen</th>\n",
       "      <th>eye_movement</th>\n",
       "      <th>sleeping_hours</th>\n",
       "      <th>heart_rate</th>\n",
       "      <th>stress_level</th>\n",
       "    </tr>\n",
       "  </thead>\n",
       "  <tbody>\n",
       "    <tr>\n",
       "      <th>0</th>\n",
       "      <td>93.80</td>\n",
       "      <td>25.68</td>\n",
       "      <td>91.84</td>\n",
       "      <td>16.60</td>\n",
       "      <td>89.84</td>\n",
       "      <td>99.60</td>\n",
       "      <td>1.84</td>\n",
       "      <td>74.20</td>\n",
       "      <td>3</td>\n",
       "    </tr>\n",
       "    <tr>\n",
       "      <th>1</th>\n",
       "      <td>91.64</td>\n",
       "      <td>25.10</td>\n",
       "      <td>91.55</td>\n",
       "      <td>15.88</td>\n",
       "      <td>89.55</td>\n",
       "      <td>98.88</td>\n",
       "      <td>1.55</td>\n",
       "      <td>72.76</td>\n",
       "      <td>3</td>\n",
       "    </tr>\n",
       "    <tr>\n",
       "      <th>2</th>\n",
       "      <td>60.00</td>\n",
       "      <td>20.00</td>\n",
       "      <td>96.00</td>\n",
       "      <td>10.00</td>\n",
       "      <td>95.00</td>\n",
       "      <td>85.00</td>\n",
       "      <td>7.00</td>\n",
       "      <td>60.00</td>\n",
       "      <td>1</td>\n",
       "    </tr>\n",
       "    <tr>\n",
       "      <th>3</th>\n",
       "      <td>85.76</td>\n",
       "      <td>23.54</td>\n",
       "      <td>90.77</td>\n",
       "      <td>13.92</td>\n",
       "      <td>88.77</td>\n",
       "      <td>96.92</td>\n",
       "      <td>0.77</td>\n",
       "      <td>68.84</td>\n",
       "      <td>3</td>\n",
       "    </tr>\n",
       "    <tr>\n",
       "      <th>4</th>\n",
       "      <td>48.12</td>\n",
       "      <td>17.25</td>\n",
       "      <td>97.87</td>\n",
       "      <td>6.50</td>\n",
       "      <td>96.25</td>\n",
       "      <td>72.48</td>\n",
       "      <td>8.25</td>\n",
       "      <td>53.12</td>\n",
       "      <td>0</td>\n",
       "    </tr>\n",
       "  </tbody>\n",
       "</table>\n",
       "</div>"
      ],
      "text/plain": [
       "   snoring_rate  respiration_rate  body_temperature  limb_movement  \\\n",
       "0         93.80             25.68             91.84          16.60   \n",
       "1         91.64             25.10             91.55          15.88   \n",
       "2         60.00             20.00             96.00          10.00   \n",
       "3         85.76             23.54             90.77          13.92   \n",
       "4         48.12             17.25             97.87           6.50   \n",
       "\n",
       "   blood_oxygen  eye_movement  sleeping_hours  heart_rate  stress_level  \n",
       "0         89.84         99.60            1.84       74.20             3  \n",
       "1         89.55         98.88            1.55       72.76             3  \n",
       "2         95.00         85.00            7.00       60.00             1  \n",
       "3         88.77         96.92            0.77       68.84             3  \n",
       "4         96.25         72.48            8.25       53.12             0  "
      ]
     },
     "execution_count": 12,
     "metadata": {},
     "output_type": "execute_result"
    }
   ],
   "source": [
    "df.head()"
   ]
  },
  {
   "cell_type": "code",
   "execution_count": 13,
   "id": "07afb6a8",
   "metadata": {},
   "outputs": [
    {
     "data": {
      "image/png": "[encoded data removed]",
      "text/plain": [
       "<Figure size 1080x504 with 1 Axes>"
      ]
     },
     "metadata": {
      "needs_background": "light"
     },
     "output_type": "display_data"
    }
   ],
   "source": [
    "plt.figure(figsize=(15,7))\n",
    "sns.boxplot(data=df)\n",
    "plt.show()"
   ]
  },
  {
   "cell_type": "code",
   "execution_count": 14,
   "id": "bae50e3f",
   "metadata": {},
   "outputs": [
    {
     "data": {
      "text/plain": [
       "snoring_rate        0\n",
       "respiration_rate    0\n",
       "body_temperature    0\n",
       "limb_movement       0\n",
       "blood_oxygen        0\n",
       "eye_movement        0\n",
       "sleeping_hours      0\n",
       "heart_rate          0\n",
       "stress_level        0\n",
       "dtype: int64"
      ]
     },
     "execution_count": 14,
     "metadata": {},
     "output_type": "execute_result"
    }
   ],
   "source": [
    "Q1 = df.quantile(0.25)\n",
    "Q3 = df.quantile(0.75)\n",
    "IQR = Q3 - Q1\n",
    "\n",
    "((df < (Q1 - 1.5 * IQR)) | (df > (Q3 + 1.5 * IQR))).sum()"
   ]
  },
  {
   "cell_type": "code",
   "execution_count": 15,
   "id": "b42973db",
   "metadata": {},
   "outputs": [
    {
     "data": {
      "image/png": "[encoded data removed]",
      "text/plain": [
       "<Figure size 432x288 with 2 Axes>"
      ]
     },
     "metadata": {
      "needs_background": "light"
     },
     "output_type": "display_data"
    }
   ],
   "source": [
    "hm = sns.heatmap(df.corr(), vmin=-1, vmax=1, annot=True, cmap=\"RdBu_r\")\n",
    "hm.set_title('Correlation Heatmap', fontdict={'fontsize':12}, pad=12);"
   ]
  },
  {
   "cell_type": "code",
   "execution_count": 16,
   "id": "4026aa20",
   "metadata": {},
   "outputs": [
    {
     "data": {
      "text/html": [
       "<div>\n",
       "<style scoped>\n",
       "    .dataframe tbody tr th:only-of-type {\n",
       "        vertical-align: middle;\n",
       "    }\n",
       "\n",
       "    .dataframe tbody tr th {\n",
       "        vertical-align: top;\n",
       "    }\n",
       "\n",
       "    .dataframe thead th {\n",
       "        text-align: right;\n",
       "    }\n",
       "</style>\n",
       "<table border=\"1\" class=\"dataframe\">\n",
       "  <thead>\n",
       "    <tr style=\"text-align: right;\">\n",
       "      <th></th>\n",
       "      <th>snoring_rate</th>\n",
       "      <th>respiration_rate</th>\n",
       "      <th>body_temperature</th>\n",
       "      <th>limb_movement</th>\n",
       "      <th>blood_oxygen</th>\n",
       "      <th>eye_movement</th>\n",
       "      <th>sleeping_hours</th>\n",
       "      <th>heart_rate</th>\n",
       "      <th>stress_level</th>\n",
       "    </tr>\n",
       "  </thead>\n",
       "  <tbody>\n",
       "    <tr>\n",
       "      <th>snoring_rate</th>\n",
       "      <td>1.000000</td>\n",
       "      <td>0.976267</td>\n",
       "      <td>-0.902477</td>\n",
       "      <td>0.981077</td>\n",
       "      <td>-0.903142</td>\n",
       "      <td>0.950600</td>\n",
       "      <td>-0.920556</td>\n",
       "      <td>0.976268</td>\n",
       "      <td>0.975322</td>\n",
       "    </tr>\n",
       "    <tr>\n",
       "      <th>respiration_rate</th>\n",
       "      <td>0.976267</td>\n",
       "      <td>1.000000</td>\n",
       "      <td>-0.889239</td>\n",
       "      <td>0.991736</td>\n",
       "      <td>-0.889213</td>\n",
       "      <td>0.935570</td>\n",
       "      <td>-0.891858</td>\n",
       "      <td>1.000000</td>\n",
       "      <td>0.963515</td>\n",
       "    </tr>\n",
       "    <tr>\n",
       "      <th>body_temperature</th>\n",
       "      <td>-0.902477</td>\n",
       "      <td>-0.889239</td>\n",
       "      <td>1.000000</td>\n",
       "      <td>-0.896414</td>\n",
       "      <td>0.998106</td>\n",
       "      <td>-0.857299</td>\n",
       "      <td>0.954858</td>\n",
       "      <td>-0.889239</td>\n",
       "      <td>-0.962354</td>\n",
       "    </tr>\n",
       "    <tr>\n",
       "      <th>limb_movement</th>\n",
       "      <td>0.981077</td>\n",
       "      <td>0.991736</td>\n",
       "      <td>-0.896414</td>\n",
       "      <td>1.000000</td>\n",
       "      <td>-0.898533</td>\n",
       "      <td>0.964703</td>\n",
       "      <td>-0.901106</td>\n",
       "      <td>0.991737</td>\n",
       "      <td>0.971071</td>\n",
       "    </tr>\n",
       "    <tr>\n",
       "      <th>blood_oxygen</th>\n",
       "      <td>-0.903142</td>\n",
       "      <td>-0.889213</td>\n",
       "      <td>0.998106</td>\n",
       "      <td>-0.898533</td>\n",
       "      <td>1.000000</td>\n",
       "      <td>-0.862140</td>\n",
       "      <td>0.950188</td>\n",
       "      <td>-0.889214</td>\n",
       "      <td>-0.961093</td>\n",
       "    </tr>\n",
       "    <tr>\n",
       "      <th>eye_movement</th>\n",
       "      <td>0.950600</td>\n",
       "      <td>0.935570</td>\n",
       "      <td>-0.857299</td>\n",
       "      <td>0.964703</td>\n",
       "      <td>-0.862140</td>\n",
       "      <td>1.000000</td>\n",
       "      <td>-0.893954</td>\n",
       "      <td>0.935572</td>\n",
       "      <td>0.951988</td>\n",
       "    </tr>\n",
       "    <tr>\n",
       "      <th>sleeping_hours</th>\n",
       "      <td>-0.920556</td>\n",
       "      <td>-0.891858</td>\n",
       "      <td>0.954858</td>\n",
       "      <td>-0.901106</td>\n",
       "      <td>0.950188</td>\n",
       "      <td>-0.893954</td>\n",
       "      <td>1.000000</td>\n",
       "      <td>-0.891857</td>\n",
       "      <td>-0.973037</td>\n",
       "    </tr>\n",
       "    <tr>\n",
       "      <th>heart_rate</th>\n",
       "      <td>0.976268</td>\n",
       "      <td>1.000000</td>\n",
       "      <td>-0.889239</td>\n",
       "      <td>0.991737</td>\n",
       "      <td>-0.889214</td>\n",
       "      <td>0.935572</td>\n",
       "      <td>-0.891857</td>\n",
       "      <td>1.000000</td>\n",
       "      <td>0.963516</td>\n",
       "    </tr>\n",
       "    <tr>\n",
       "      <th>stress_level</th>\n",
       "      <td>0.975322</td>\n",
       "      <td>0.963515</td>\n",
       "      <td>-0.962354</td>\n",
       "      <td>0.971071</td>\n",
       "      <td>-0.961093</td>\n",
       "      <td>0.951988</td>\n",
       "      <td>-0.973037</td>\n",
       "      <td>0.963516</td>\n",
       "      <td>1.000000</td>\n",
       "    </tr>\n",
       "  </tbody>\n",
       "</table>\n",
       "</div>"
      ],
      "text/plain": [
       "                  snoring_rate  respiration_rate  body_temperature  \\\n",
       "snoring_rate          1.000000          0.976267         -0.902477   \n",
       "respiration_rate      0.976267          1.000000         -0.889239   \n",
       "body_temperature     -0.902477         -0.889239          1.000000   \n",
       "limb_movement         0.981077          0.991736         -0.896414   \n",
       "blood_oxygen         -0.903142         -0.889213          0.998106   \n",
       "eye_movement          0.950600          0.935570         -0.857299   \n",
       "sleeping_hours       -0.920556         -0.891858          0.954858   \n",
       "heart_rate            0.976268          1.000000         -0.889239   \n",
       "stress_level          0.975322          0.963515         -0.962354   \n",
       "\n",
       "                  limb_movement  blood_oxygen  eye_movement  sleeping_hours  \\\n",
       "snoring_rate           0.981077     -0.903142      0.950600       -0.920556   \n",
       "respiration_rate       0.991736     -0.889213      0.935570       -0.891858   \n",
       "body_temperature      -0.896414      0.998106     -0.857299        0.954858   \n",
       "limb_movement          1.000000     -0.898533      0.964703       -0.901106   \n",
       "blood_oxygen          -0.898533      1.000000     -0.862140        0.950188   \n",
       "eye_movement           0.964703     -0.862140      1.000000       -0.893954   \n",
       "sleeping_hours        -0.901106      0.950188     -0.893954        1.000000   \n",
       "heart_rate             0.991737     -0.889214      0.935572       -0.891857   \n",
       "stress_level           0.971071     -0.961093      0.951988       -0.973037   \n",
       "\n",
       "                  heart_rate  stress_level  \n",
       "snoring_rate        0.976268      0.975322  \n",
       "respiration_rate    1.000000      0.963515  \n",
       "body_temperature   -0.889239     -0.962354  \n",
       "limb_movement       0.991737      0.971071  \n",
       "blood_oxygen       -0.889214     -0.961093  \n",
       "eye_movement        0.935572      0.951988  \n",
       "sleeping_hours     -0.891857     -0.973037  \n",
       "heart_rate          1.000000      0.963516  \n",
       "stress_level        0.963516      1.000000  "
      ]
     },
     "execution_count": 16,
     "metadata": {},
     "output_type": "execute_result"
    }
   ],
   "source": [
    "df.corr()"
   ]
  },
  {
   "cell_type": "code",
   "execution_count": 17,
   "id": "7523bbe1",
   "metadata": {},
   "outputs": [
    {
     "data": {
      "text/plain": [
       "snoring_rate        float64\n",
       "respiration_rate    float64\n",
       "body_temperature    float64\n",
       "limb_movement       float64\n",
       "blood_oxygen        float64\n",
       "eye_movement        float64\n",
       "sleeping_hours      float64\n",
       "heart_rate          float64\n",
       "stress_level          int64\n",
       "dtype: object"
      ]
     },
     "execution_count": 17,
     "metadata": {},
     "output_type": "execute_result"
    }
   ],
   "source": [
    "df.dtypes"
   ]
  }
 ],
 "metadata": {
  "kernelspec": {
   "display_name": "Python 3 (ipykernel)",
   "language": "python",
   "name": "python3"
  },
  "language_info": {
   "codemirror_mode": {
    "name": "ipython",
    "version": 3
   },
   "file_extension": ".py",
   "mimetype": "text/x-python",
   "name": "python",
   "nbconvert_exporter": "python",
   "pygments_lexer": "ipython3",
   "version": "3.9.12"
  }
 },
 "nbformat": 4,
 "nbformat_minor": 5
}
